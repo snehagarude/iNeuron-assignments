{
 "cells": [
  {
   "cell_type": "markdown",
   "metadata": {},
   "source": [
    "1.1 Write a Python Program(with class concepts) to find the area of the triangle using the below\n",
    "formula.\n",
    "area = (s*(s-a)*(s-b)*(s-c)) ** 0.5\n",
    "Function to take the length of the sides of triangle from user should be defined in the parent\n",
    "class and function to calculate the area should be defined in subclass."
   ]
  },
  {
   "cell_type": "code",
   "execution_count": 7,
   "metadata": {},
   "outputs": [
    {
     "name": "stdout",
     "output_type": "stream",
     "text": [
      "a=1\n",
      "b=2\n",
      "c=2\n",
      "s=6\n"
     ]
    },
    {
     "data": {
      "text/plain": [
       "21.908902300206645"
      ]
     },
     "execution_count": 7,
     "metadata": {},
     "output_type": "execute_result"
    }
   ],
   "source": [
    "class myclass:\n",
    "    def __init__(self):\n",
    "        self.a1 = float(input(\"a=\"))\n",
    "        self.b1 = float(input(\"b=\"))\n",
    "        self.c1 = float(input(\"c=\"))\n",
    "        self.s1 = float(input(\"s=\"))\n",
    "\n",
    "class myclass2(myclass):\n",
    "    def calarea(self):\n",
    "        area = (self.s1*(self.s1-self.a1)*(self.s1-self.b1)*(self.s1-self.c1)) ** 0.5\n",
    "        return area\n",
    "    \n",
    "val = myclass2()\n",
    "val.calarea()"
   ]
  },
  {
   "cell_type": "markdown",
   "metadata": {},
   "source": [
    "1.2 Write a function filter_long_words() that takes a list of words and an integer n and returns\n",
    "the list of words that are longer than n."
   ]
  },
  {
   "cell_type": "code",
   "execution_count": 43,
   "metadata": {},
   "outputs": [
    {
     "name": "stdout",
     "output_type": "stream",
     "text": [
      "sneha\n",
      "snehagarude1\n"
     ]
    }
   ],
   "source": [
    "word_lst = []\n",
    "\n",
    "def filter_long_words(word_lst, n):\n",
    "    for i in word_lst:\n",
    "        if len(i) > n:\n",
    "            print (i)\n",
    "\n",
    "        \n",
    "filter_long_words(['sneha','snehagarude1','a','abc'],4)"
   ]
  },
  {
   "cell_type": "markdown",
   "metadata": {},
   "source": [
    "2.1 Write a Python program using function concept that maps list of words into a list of integers\n",
    "representing the lengths of the corresponding words.\n",
    "Hint: If a list [ ab,cde,erty] is passed on to the python function output should come as [2,3,4]\n",
    "Here 2,3 and 4 are the lengths of the words in the list."
   ]
  },
  {
   "cell_type": "code",
   "execution_count": 66,
   "metadata": {},
   "outputs": [
    {
     "name": "stdout",
     "output_type": "stream",
     "text": [
      "[2, 3, 5]\n"
     ]
    }
   ],
   "source": [
    "word_lst=['ab','abc','ENRTY']\n",
    "l=[]\n",
    "\n",
    "def FIND_LEN():\n",
    "    for i in word_lst:\n",
    "        l.append(len(i))\n",
    "    print(l)\n",
    "\n",
    "FIND_LEN()"
   ]
  },
  {
   "cell_type": "markdown",
   "metadata": {},
   "source": [
    "2.2 Write a Python function which takes a character (i.e. a string of length 1) and returns True if\n",
    "it is a vowel, False otherwise."
   ]
  },
  {
   "cell_type": "code",
   "execution_count": 81,
   "metadata": {},
   "outputs": [
    {
     "data": {
      "text/plain": [
       "False"
      ]
     },
     "execution_count": 81,
     "metadata": {},
     "output_type": "execute_result"
    }
   ],
   "source": [
    "def find_vowel(char):\n",
    "    if (char in ('a','o','u','i','e')):\n",
    "        return True \n",
    "    else:\n",
    "        return False\n",
    "\n",
    "find_vowel('s')"
   ]
  },
  {
   "cell_type": "code",
   "execution_count": null,
   "metadata": {},
   "outputs": [],
   "source": []
  }
 ],
 "metadata": {
  "kernelspec": {
   "display_name": "Python 3",
   "language": "python",
   "name": "python3"
  },
  "language_info": {
   "codemirror_mode": {
    "name": "ipython",
    "version": 3
   },
   "file_extension": ".py",
   "mimetype": "text/x-python",
   "name": "python",
   "nbconvert_exporter": "python",
   "pygments_lexer": "ipython3",
   "version": "3.7.6"
  }
 },
 "nbformat": 4,
 "nbformat_minor": 4
}
